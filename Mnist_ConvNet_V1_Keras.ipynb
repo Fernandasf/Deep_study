{
 "cells": [
  {
   "cell_type": "markdown",
   "metadata": {},
   "source": [
    "# Convolutional Network with one layer"
   ]
  },
  {
   "cell_type": "code",
   "execution_count": 1,
   "metadata": {
    "collapsed": true
   },
   "outputs": [
    {
     "name": "stderr",
     "output_type": "stream",
     "text": [
      "/home/fernanda/anaconda3/lib/python3.6/site-packages/h5py/__init__.py:36: FutureWarning: Conversion of the second argument of issubdtype from `float` to `np.floating` is deprecated. In future, it will be treated as `np.float64 == np.dtype(float).type`.\n",
      "  from ._conv import register_converters as _register_converters\n",
      "Using TensorFlow backend.\n"
     ]
    }
   ],
   "source": [
    "from __future__ import print_function\n",
    "import keras\n",
    "from keras.datasets import mnist\n",
    "from keras.models import Sequential\n",
    "from keras.layers import Dense, Dropout, Flatten\n",
    "from keras.layers import Conv2D, MaxPooling2D\n",
    "from keras import backend as K"
   ]
  },
  {
   "cell_type": "markdown",
   "metadata": {},
   "source": [
    "## Dataset: Loading and preparation"
   ]
  },
  {
   "cell_type": "code",
   "execution_count": 2,
   "metadata": {},
   "outputs": [
    {
     "name": "stdout",
     "output_type": "stream",
     "text": [
      "x_train shape: (60000, 28, 28, 1)\n",
      "60000 train samples\n",
      "10000 test samples\n",
      "(28, 28, 1)\n"
     ]
    }
   ],
   "source": [
    "# the data, split between train and test sets\n",
    "(x_train, y_train), (x_test, y_test) = mnist.load_data()\n",
    "\n",
    "# input image dimensions\n",
    "img_rows, img_cols = 28, 28\n",
    "\n",
    "if K.image_data_format() == 'channels_first':\n",
    "    x_train = x_train.reshape(x_train.shape[0], 1, img_rows, img_cols)\n",
    "    x_test = x_test.reshape(x_test.shape[0], 1, img_rows, img_cols)\n",
    "    input_shape = (1, img_rows, img_cols)\n",
    "else:\n",
    "    x_train = x_train.reshape(x_train.shape[0], img_rows, img_cols, 1)\n",
    "    x_test = x_test.reshape(x_test.shape[0], img_rows, img_cols, 1)\n",
    "    input_shape = (img_rows, img_cols, 1)\n",
    "\n",
    "x_train = x_train.astype('float32')\n",
    "x_test = x_test.astype('float32')\n",
    "x_train /= 255\n",
    "x_test /= 255\n",
    "print('x_train shape:', x_train.shape)\n",
    "print(x_train.shape[0], 'train samples')\n",
    "print(x_test.shape[0], 'test samples')\n",
    "print (input_shape)\n",
    "\n",
    "# convert class vectors to binary class matrices\n",
    "num_classes = 10\n",
    "y_train = keras.utils.to_categorical(y_train, num_classes)\n",
    "y_test = keras.utils.to_categorical(y_test, num_classes)\n",
    "\n",
    "batch_size = 128\n",
    "epochs = 12"
   ]
  },
  {
   "cell_type": "markdown",
   "metadata": {},
   "source": [
    "# Conv2D + ReLu"
   ]
  },
  {
   "cell_type": "markdown",
   "metadata": {},
   "source": [
    "<img src=\"conv1.png\">"
   ]
  },
  {
   "cell_type": "code",
   "execution_count": 7,
   "metadata": {},
   "outputs": [
    {
     "name": "stdout",
     "output_type": "stream",
     "text": [
      "_________________________________________________________________\n",
      "Layer (type)                 Output Shape              Param #   \n",
      "=================================================================\n",
      "conv2d_1 (Conv2D)            (None, 26, 26, 32)        320       \n",
      "_________________________________________________________________\n",
      "flatten_1 (Flatten)          (None, 21632)             0         \n",
      "_________________________________________________________________\n",
      "dense_1 (Dense)              (None, 512)               11076096  \n",
      "_________________________________________________________________\n",
      "dense_2 (Dense)              (None, 10)                5130      \n",
      "=================================================================\n",
      "Total params: 11,081,546\n",
      "Trainable params: 11,081,546\n",
      "Non-trainable params: 0\n",
      "_________________________________________________________________\n"
     ]
    }
   ],
   "source": [
    "model = Sequential()\n",
    "# Input Layer\n",
    "input_shape=input_shape\n",
    "# Hidden Layer\n",
    "model.add(Conv2D(32, kernel_size=(3, 3), activation='relu', input_shape=input_shape))\n",
    "model.add(Flatten())\n",
    "model.add(Dense(512, activation='relu'))\n",
    "# Output Layer\n",
    "model.add(Dense(num_classes, activation='softmax'))\n",
    "model.summary()"
   ]
  },
  {
   "cell_type": "code",
   "execution_count": 8,
   "metadata": {},
   "outputs": [
    {
     "name": "stdout",
     "output_type": "stream",
     "text": [
      "Train on 60000 samples, validate on 10000 samples\n",
      "Epoch 1/12\n",
      "60000/60000 [==============================] - 27s 446us/step - loss: 0.7277 - acc: 0.8259 - val_loss: 0.3070 - val_acc: 0.9146\n",
      "Epoch 2/12\n",
      "60000/60000 [==============================] - 25s 415us/step - loss: 0.2879 - acc: 0.9175 - val_loss: 0.2411 - val_acc: 0.9323\n",
      "Epoch 3/12\n",
      "60000/60000 [==============================] - 25s 415us/step - loss: 0.2340 - acc: 0.9336 - val_loss: 0.2116 - val_acc: 0.9391\n",
      "Epoch 4/12\n",
      "60000/60000 [==============================] - 25s 416us/step - loss: 0.1980 - acc: 0.9434 - val_loss: 0.1741 - val_acc: 0.9492\n",
      "Epoch 5/12\n",
      "60000/60000 [==============================] - 25s 416us/step - loss: 0.1707 - acc: 0.9511 - val_loss: 0.1618 - val_acc: 0.9540\n",
      "Epoch 6/12\n",
      "60000/60000 [==============================] - 25s 416us/step - loss: 0.1501 - acc: 0.9564 - val_loss: 0.1383 - val_acc: 0.9609\n",
      "Epoch 7/12\n",
      "60000/60000 [==============================] - 25s 416us/step - loss: 0.1335 - acc: 0.9615 - val_loss: 0.1261 - val_acc: 0.9648\n",
      "Epoch 8/12\n",
      "60000/60000 [==============================] - 25s 416us/step - loss: 0.1203 - acc: 0.9658 - val_loss: 0.1137 - val_acc: 0.9667\n",
      "Epoch 9/12\n",
      "60000/60000 [==============================] - 25s 416us/step - loss: 0.1093 - acc: 0.9691 - val_loss: 0.1067 - val_acc: 0.9693\n",
      "Epoch 10/12\n",
      "60000/60000 [==============================] - 25s 414us/step - loss: 0.0999 - acc: 0.9722 - val_loss: 0.0987 - val_acc: 0.9702\n",
      "Epoch 11/12\n",
      "60000/60000 [==============================] - 25s 415us/step - loss: 0.0923 - acc: 0.9741 - val_loss: 0.0928 - val_acc: 0.9720\n",
      "Epoch 12/12\n",
      "60000/60000 [==============================] - 25s 417us/step - loss: 0.0855 - acc: 0.9760 - val_loss: 0.0906 - val_acc: 0.9728\n",
      "Test loss: 0.09055803090594709\n",
      "Test accuracy: 0.9728\n"
     ]
    }
   ],
   "source": [
    "#model.compile(loss='categorical_crossentropy', metrics=['accuracy'], optimizer='adam')\n",
    "model.compile(loss='categorical_crossentropy', metrics=['accuracy'], optimizer='sgd')\n",
    "\n",
    "model.fit(x_train, y_train,\n",
    "          batch_size=batch_size,\n",
    "          epochs=epochs,\n",
    "          verbose=1,\n",
    "          validation_data=(x_test, y_test))\n",
    "\n",
    "score = model.evaluate(x_test, y_test, verbose=0)\n",
    "print('Test loss:', score[0])\n",
    "print('Test accuracy:', score[1])"
   ]
  },
  {
   "cell_type": "markdown",
   "metadata": {},
   "source": [
    "# Conclusion\n",
    "\n",
    "The mean goal convolutional neural network is extract features of input datas. This arquiteture doesn't depend on the input datas to be flattened, which could be a advantage. The weights are considered a volume in the images. For example: image = (28x28x1), kernel = (3x3), bias=1 and we would like have a 32 channels. So, we will have (3*3*32)+1*32 = 320 weights. "
   ]
  },
  {
   "cell_type": "markdown",
   "metadata": {},
   "source": [
    "# References\n",
    "\n",
    "- http://cs231n.github.io/convolutional-networks/"
   ]
  },
  {
   "cell_type": "code",
   "execution_count": null,
   "metadata": {},
   "outputs": [],
   "source": []
  }
 ],
 "metadata": {
  "kernelspec": {
   "display_name": "Python 3",
   "language": "python",
   "name": "python3"
  },
  "language_info": {
   "codemirror_mode": {
    "name": "ipython",
    "version": 3
   },
   "file_extension": ".py",
   "mimetype": "text/x-python",
   "name": "python",
   "nbconvert_exporter": "python",
   "pygments_lexer": "ipython3",
   "version": "3.6.5"
  }
 },
 "nbformat": 4,
 "nbformat_minor": 2
}
