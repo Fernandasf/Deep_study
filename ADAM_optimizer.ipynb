{
 "cells": [
  {
   "cell_type": "code",
   "execution_count": null,
   "metadata": {},
   "outputs": [],
   "source": [
    "Import numpy as np"
   ]
  },
  {
   "cell_type": "code",
   "execution_count": null,
   "metadata": {},
   "outputs": [],
   "source": [
    "for i in range(epoch):\n",
    " for j in range(num_of_instances):\n",
    "  for k in range(num_of_layers - 1):\n",
    "   dw = findDelta() #partial derivative of total error with respect to the weight\n",
    " \n",
    "   if optimization_algorithm == 'gradient-descent':\n",
    "    w[j] = w[j] + learningRate * dw\n",
    "   elif optimization_algorithm == 'adam':\n",
    "    vdw[j] = beta1 * vdw[j] + (1 - beta1) * dw\n",
    "    sdw[j] = beta2 * sdw[j] + (1 - beta2) * pow(dw, 2)\n",
    "    vdw_corrected = vdw[j] / (1-pow(beta1, epoch+1))\n",
    "    sdw_corrected = sdw[j] / (1-pow(beta2,epoch+1))\n",
    "    w[j] = w[j] + learningRate * (vdw_corrected / (np.sqrt(sdw_corrected) + epsilon)"
   ]
  },
  {
   "cell_type": "markdown",
   "metadata": {},
   "source": [
    "### References"
   ]
  },
  {
   "cell_type": "markdown",
   "metadata": {},
   "source": [
    "- https://sefiks.com/2018/06/23/the-insiders-guide-to-adam-optimization-algorithm-for-deep-learning/\n",
    "- https://medium.com/@nishantnikhil/adam-optimizer-notes-ddac4fd7218"
   ]
  },
  {
   "cell_type": "code",
   "execution_count": null,
   "metadata": {},
   "outputs": [],
   "source": []
  }
 ],
 "metadata": {
  "kernelspec": {
   "display_name": "Python 3",
   "language": "python",
   "name": "python3"
  },
  "language_info": {
   "codemirror_mode": {
    "name": "ipython",
    "version": 3
   },
   "file_extension": ".py",
   "mimetype": "text/x-python",
   "name": "python",
   "nbconvert_exporter": "python",
   "pygments_lexer": "ipython3",
   "version": "3.6.5"
  }
 },
 "nbformat": 4,
 "nbformat_minor": 2
}
