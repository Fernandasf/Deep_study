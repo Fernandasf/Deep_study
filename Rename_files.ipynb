{
 "cells": [
  {
   "cell_type": "code",
   "execution_count": null,
   "metadata": {},
   "outputs": [],
   "source": [
    "import os\n",
    "path = 'fernanda_noise_norm/noise_10_2/'\n",
    "\n",
    "for file in os.listdir(path):\n",
    "    source_path = os.path.join(path, file)\n",
    "    #print (file, type(file))\n",
    "    #file_name = file.split('/')[2]\n",
    "    root_name, ext = file.split('.')\n",
    "    for \n",
    "    dst= root_name + \"_I10.\" + ext\n",
    "    #print (dst)\n",
    "    dst_path = os.path.join(path, dst)\n",
    "    os.rename(source_path,dst_path)"
   ]
  }
 ],
 "metadata": {
  "kernelspec": {
   "display_name": "Python 3",
   "language": "python",
   "name": "python3"
  },
  "language_info": {
   "codemirror_mode": {
    "name": "ipython",
    "version": 3
   },
   "file_extension": ".py",
   "mimetype": "text/x-python",
   "name": "python",
   "nbconvert_exporter": "python",
   "pygments_lexer": "ipython3",
   "version": "3.6.5"
  }
 },
 "nbformat": 4,
 "nbformat_minor": 2
}
