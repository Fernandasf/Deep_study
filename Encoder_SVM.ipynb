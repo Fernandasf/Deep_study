{
 "cells": [
  {
   "cell_type": "markdown",
   "metadata": {},
   "source": [
    "# Redução de dimensão utilizando Deep Endoder e SVM\n",
    "\n",
    "Autora: Fernanda Ferreira\n",
    "    \n",
    "Orientador: Tiago Tavares\n",
    "\n",
    "Data: 08/11/2018"
   ]
  },
  {
   "cell_type": "code",
   "execution_count": 1,
   "metadata": {},
   "outputs": [
    {
     "name": "stderr",
     "output_type": "stream",
     "text": [
      "/home/fernanda/anaconda3/lib/python3.6/site-packages/h5py/__init__.py:36: FutureWarning: Conversion of the second argument of issubdtype from `float` to `np.floating` is deprecated. In future, it will be treated as `np.float64 == np.dtype(float).type`.\n",
      "  from ._conv import register_converters as _register_converters\n",
      "Using TensorFlow backend.\n"
     ]
    }
   ],
   "source": [
    "%matplotlib inline\n",
    "import matplotlib.pyplot as plt\n",
    "import glob\n",
    "from sklearn.model_selection import train_test_split\n",
    "import librosa\n",
    "import sklearn\n",
    "from sklearn import svm\n",
    "from sklearn import metrics\n",
    "import numpy as np\n",
    "#import pylab as plt\n",
    "import seaborn as sns; sns.set()\n",
    "import keras\n",
    "from keras.datasets import mnist\n",
    "from keras.models import Sequential, Model\n",
    "from keras.layers import Dense\n",
    "from keras.optimizers import Adam\n",
    "from keras import backend as K"
   ]
  },
  {
   "cell_type": "code",
   "execution_count": 2,
   "metadata": {},
   "outputs": [],
   "source": [
    "datas = glob.glob('fernanda_audios/*.wav')\n",
    "labels = list(open('labels_MFCC.txt', 'r'))\n",
    "\n",
    "#Carregando todos os audios limpos\n",
    "\n",
    "list_spec =[]\n",
    "list_audio = []\n",
    "\n",
    "for file in sorted(datas):\n",
    "    audio, fs = librosa.core.load(file, sr=44100, mono=True)\n",
    "    spec = np.abs(librosa.stft(audio, n_fft=1024, hop_length=None, win_length=None, window='hann', center=True, pad_mode='reflect')).T\n",
    "    spec_trunc = np.hstack((np.mean(spec, axis=0), np.std(spec, axis=0)))\n",
    "    list_spec.append(spec_trunc)\n",
    "    #list_spec.append(spec)\n",
    "    #list_audio.append(np.hstack((np.mean(audio, axis=0), np.std(audio, axis=0))))\n",
    "    #list_audio.append(audio)\n",
    "\n",
    "features = np.vstack(list_spec)\n",
    "#features = np.vstack(list_audio)#Dados brutos."
   ]
  },
  {
   "cell_type": "code",
   "execution_count": null,
   "metadata": {},
   "outputs": [],
   "source": [
    "def get_spec(path='', labels_name=''):\n",
    "    datas = glob.glob(path)\n",
    "    list_spec =[]\n",
    "\n",
    "    for file in sorted(datas):\n",
    "        #input(file)\n",
    "        audio, fs = librosa.core.load(file, sr=44100, mono=True)\n",
    "        spec = np.abs(librosa.stft(audio, n_fft=512, hop_length=None, win_length=None, window='hann', center=True, pad_mode='reflect')).T\n",
    "        list_spec.append(spec)\n",
    "\n",
    "    features = np.concatenate((list_spec))\n",
    "    \n",
    "    labels_spec = [labels_name]*features.shape[0]\n",
    "    return features, labels_spec\n",
    "\n",
    "fea1, lab1 = get_spec(path='academia/*.wav', labels_name='academia')\n",
    "fea2, lab2 = get_spec(path='aeroporto/*.wav', labels_name='aeroporto')\n",
    "fea3, lab3 = get_spec(path='casa/*.wav', labels_name='casa')\n",
    "fea4, lab4 = get_spec(path='cinema/*.wav', labels_name='cinema')\n",
    "fea5, lab5 = get_spec(path='escola/*.wav', labels_name='escola')\n",
    "fea6, lab6 = get_spec(path='faculdade/*.wav', labels_name='faculdade')\n",
    "fea7, lab7 = get_spec(path='farmacia/*.wav', labels_name='farmacia')\n",
    "fea8, lab8 = get_spec(path='hospital/*.wav', labels_name='hospital')\n",
    "fea9, lab9 = get_spec(path='mercado/*.wav', labels_name='mercado')\n",
    "fea10, lab10 = get_spec(path='trabalho/*.wav', labels_name='trabalho')"
   ]
  },
  {
   "cell_type": "code",
   "execution_count": null,
   "metadata": {},
   "outputs": [],
   "source": [
    "features = np.concatenate([fea1, fea2, fea3, fea4, fea5, fea6, fea7, fea8, fea9, fea10])\n",
    "labels = lab1+lab2+lab3+lab4+lab5+lab6+lab7+lab8+lab9+lab10\n",
    "print (features.shape, len(labels))"
   ]
  },
  {
   "cell_type": "code",
   "execution_count": 3,
   "metadata": {},
   "outputs": [
    {
     "name": "stdout",
     "output_type": "stream",
     "text": [
      "(3200, 1026) (800, 1026)\n"
     ]
    }
   ],
   "source": [
    "x_train, x_test, y_train, y_test = train_test_split(features, labels, test_size=0.2, random_state=42, stratify=labels)\n",
    "\n",
    "\n",
    "s = sklearn.preprocessing.StandardScaler()\n",
    "x_train = s.fit_transform(x_train)\n",
    "x_test = s.transform(x_test)\n",
    "\n",
    "print (x_train.shape, x_test.shape)\n",
    "#print (x_test.shape, y_test.shape)\n",
    "#print (type(x_train))\n",
    "#print (type(y_train))\n",
    "\n",
    "#print (len(x_train), len(y_train))\n",
    "#print (len(x_test), len(y_test))"
   ]
  },
  {
   "cell_type": "code",
   "execution_count": 4,
   "metadata": {},
   "outputs": [],
   "source": [
    "#(x_train, y_train), (x_test, y_test) = mnist.load_data()\n",
    "#x_train = x_train.reshape(60000, 784) / 255\n",
    "#x_test = x_test.reshape(10000, 784) / 255\n",
    "\n",
    "#print (x_train.shape, y_train.shape)\n",
    "#print (x_test.shape, y_test.shape)\n",
    "\n",
    "#print (type(x_train))\n",
    "#print (type(y_train))"
   ]
  },
  {
   "cell_type": "code",
   "execution_count": 5,
   "metadata": {},
   "outputs": [],
   "source": [
    "# Contrução do autoencoder mais simples utilizando camadas densas.\n",
    "m = Sequential()\n",
    "m.add(Dense(128,  activation='relu', input_shape=(1026,)))\n",
    "m.add(Dense(64,  activation='relu'))\n",
    "m.add(Dense(13,    activation='linear', name=\"bottleneck\"))\n",
    "m.add(Dense(64,  activation='relu'))\n",
    "m.add(Dense(128,  activation='relu'))\n",
    "m.add(Dense(1026,  activation='sigmoid'))\n",
    "m.compile(loss='mean_squared_error', optimizer = Adam())"
   ]
  },
  {
   "cell_type": "code",
   "execution_count": 6,
   "metadata": {},
   "outputs": [
    {
     "name": "stdout",
     "output_type": "stream",
     "text": [
      "Train on 3200 samples, validate on 800 samples\n",
      "Epoch 1/20\n",
      "3200/3200 [==============================] - 1s 376us/step - loss: 0.9704 - val_loss: 0.6470\n",
      "Epoch 2/20\n",
      "3200/3200 [==============================] - 0s 66us/step - loss: 0.7358 - val_loss: 0.6321\n",
      "Epoch 3/20\n",
      "3200/3200 [==============================] - 0s 64us/step - loss: 0.7146 - val_loss: 0.6052\n",
      "Epoch 4/20\n",
      "3200/3200 [==============================] - 0s 64us/step - loss: 0.6854 - val_loss: 0.5839\n",
      "Epoch 5/20\n",
      "3200/3200 [==============================] - 0s 62us/step - loss: 0.6712 - val_loss: 0.5735\n",
      "Epoch 6/20\n",
      "3200/3200 [==============================] - 0s 71us/step - loss: 0.6621 - val_loss: 0.5669\n",
      "Epoch 7/20\n",
      "3200/3200 [==============================] - 0s 63us/step - loss: 0.6555 - val_loss: 0.5608\n",
      "Epoch 8/20\n",
      "3200/3200 [==============================] - 0s 64us/step - loss: 0.6504 - val_loss: 0.5571\n",
      "Epoch 9/20\n",
      "3200/3200 [==============================] - 0s 63us/step - loss: 0.6466 - val_loss: 0.5541\n",
      "Epoch 10/20\n",
      "3200/3200 [==============================] - 0s 64us/step - loss: 0.6435 - val_loss: 0.5517\n",
      "Epoch 11/20\n",
      "3200/3200 [==============================] - 0s 68us/step - loss: 0.6408 - val_loss: 0.5497\n",
      "Epoch 12/20\n",
      "3200/3200 [==============================] - 0s 62us/step - loss: 0.6395 - val_loss: 0.5487\n",
      "Epoch 13/20\n",
      "3200/3200 [==============================] - 0s 63us/step - loss: 0.6380 - val_loss: 0.5471\n",
      "Epoch 14/20\n",
      "3200/3200 [==============================] - 0s 62us/step - loss: 0.6366 - val_loss: 0.5464\n",
      "Epoch 15/20\n",
      "3200/3200 [==============================] - 0s 63us/step - loss: 0.6355 - val_loss: 0.5452\n",
      "Epoch 16/20\n",
      "3200/3200 [==============================] - 0s 63us/step - loss: 0.6343 - val_loss: 0.5442\n",
      "Epoch 17/20\n",
      "3200/3200 [==============================] - 0s 61us/step - loss: 0.6330 - val_loss: 0.5433\n",
      "Epoch 18/20\n",
      "3200/3200 [==============================] - 0s 62us/step - loss: 0.6318 - val_loss: 0.5422\n",
      "Epoch 19/20\n",
      "3200/3200 [==============================] - 0s 62us/step - loss: 0.6305 - val_loss: 0.5412\n",
      "Epoch 20/20\n",
      "3200/3200 [==============================] - 0s 62us/step - loss: 0.6294 - val_loss: 0.5403\n"
     ]
    }
   ],
   "source": [
    "# Treinamento do autoencoder\n",
    "history = m.fit(x_train, x_train, batch_size=128, epochs=20, verbose=1, \n",
    "                validation_data=(x_test, x_test))"
   ]
  },
  {
   "cell_type": "code",
   "execution_count": 7,
   "metadata": {},
   "outputs": [],
   "source": [
    "# Predição do autoencoder\n",
    "encoder = Model(m.input, m.get_layer('bottleneck').output)\n",
    "Zenc = encoder.predict(x_train)# bottleneck representation\n",
    "Renc = m.predict(x_train)        # reconstruction\n",
    "Zenc_test = encoder.predict(x_test)"
   ]
  },
  {
   "cell_type": "code",
   "execution_count": 8,
   "metadata": {},
   "outputs": [
    {
     "name": "stdout",
     "output_type": "stream",
     "text": [
      "_________________________________________________________________\n",
      "Layer (type)                 Output Shape              Param #   \n",
      "=================================================================\n",
      "dense_1_input (InputLayer)   (None, 1026)              0         \n",
      "_________________________________________________________________\n",
      "dense_1 (Dense)              (None, 128)               131456    \n",
      "_________________________________________________________________\n",
      "dense_2 (Dense)              (None, 64)                8256      \n",
      "_________________________________________________________________\n",
      "bottleneck (Dense)           (None, 13)                845       \n",
      "=================================================================\n",
      "Total params: 140,557\n",
      "Trainable params: 140,557\n",
      "Non-trainable params: 0\n",
      "_________________________________________________________________\n"
     ]
    }
   ],
   "source": [
    "encoder.summary()"
   ]
  },
  {
   "cell_type": "code",
   "execution_count": 9,
   "metadata": {},
   "outputs": [
    {
     "name": "stdout",
     "output_type": "stream",
     "text": [
      "(3200, 13)\n",
      "(3200, 1026)\n",
      "(800, 13)\n"
     ]
    }
   ],
   "source": [
    "print (Zenc.shape)\n",
    "print (Renc.shape)\n",
    "print (Zenc_test.shape)"
   ]
  },
  {
   "cell_type": "markdown",
   "metadata": {},
   "source": [
    "## Classificação"
   ]
  },
  {
   "cell_type": "code",
   "execution_count": 10,
   "metadata": {},
   "outputs": [
    {
     "data": {
      "text/plain": [
       "SVC(C=100, cache_size=200, class_weight=None, coef0=0.0,\n",
       "  decision_function_shape='ovr', degree=3, gamma='auto', kernel='rbf',\n",
       "  max_iter=-1, probability=False, random_state=None, shrinking=True,\n",
       "  tol=0.001, verbose=False)"
      ]
     },
     "execution_count": 10,
     "metadata": {},
     "output_type": "execute_result"
    }
   ],
   "source": [
    "#clf = svm.SVC(kernel='linear') # Linear Kernel\n",
    "clf = svm.SVC(kernel = 'rbf', C = 100, gamma = 'auto', probability=False)\n",
    "#clf = svm.SVC(kernel = 'rbf', C = 4, gamma = 'auto', probability=False)\n",
    "clf.fit(Zenc, y_train)"
   ]
  },
  {
   "cell_type": "code",
   "execution_count": 11,
   "metadata": {},
   "outputs": [
    {
     "name": "stdout",
     "output_type": "stream",
     "text": [
      "Accuracy: 0.425\n"
     ]
    }
   ],
   "source": [
    "#Predict the response for test dataset\n",
    "y_pred = clf.predict(Zenc_test)\n",
    "\n",
    "# Model Accuracy: how often is the classifier correct?\n",
    "print(\"Accuracy:\",metrics.accuracy_score(y_test, y_pred))\n"
   ]
  },
  {
   "cell_type": "code",
   "execution_count": 12,
   "metadata": {},
   "outputs": [
    {
     "name": "stdout",
     "output_type": "stream",
     "text": [
      "[[30  1 49  0  0  0  0  0  0  0]\n",
      " [ 0 37 43  0  0  0  0  0  0  0]\n",
      " [ 0  0 79  0  0  0  1  0  0  0]\n",
      " [ 0  0 51 29  0  0  0  0  0  0]\n",
      " [ 0  0 66  0 14  0  0  0  0  0]\n",
      " [ 0  0 46  0  0 32  0  0  1  1]\n",
      " [ 0  0 51  0  0  0 29  0  0  0]\n",
      " [ 0  0 47  0  2  0  0 31  0  0]\n",
      " [ 1  0 47  0  0  1  0  0 31  0]\n",
      " [ 0  0 48  0  0  1  1  1  1 28]]\n",
      "             precision    recall  f1-score   support\n",
      "\n",
      "  ACADEMIA\n",
      "       0.97      0.38      0.54        80\n",
      " AEROPORTO\n",
      "       0.97      0.46      0.63        80\n",
      "      CASA\n",
      "       0.15      0.99      0.26        80\n",
      "    CINEMA\n",
      "       1.00      0.36      0.53        80\n",
      "    ESCOLA\n",
      "       0.88      0.17      0.29        80\n",
      " FACULDADE\n",
      "       0.94      0.40      0.56        80\n",
      "  FARMACIA\n",
      "       0.94      0.36      0.52        80\n",
      "  HOSPITAL\n",
      "       0.97      0.39      0.55        80\n",
      "   MERCADO\n",
      "       0.94      0.39      0.55        80\n",
      "  TRABALHO\n",
      "       0.97      0.35      0.51        80\n",
      "\n",
      "avg / total       0.87      0.42      0.50       800\n",
      "\n"
     ]
    },
    {
     "data": {
      "image/png": "[encoded data removed]",
      "text/plain": [
       "<Figure size 432x288 with 2 Axes>"
      ]
     },
     "metadata": {},
     "output_type": "display_data"
    }
   ],
   "source": [
    "C = metrics.confusion_matrix(y_test, y_pred)\n",
    "print (C)\n",
    "print (metrics.classification_report(y_test, y_pred))\n",
    "plt.imshow(C)\n",
    "plt.colorbar()\n",
    "plt.show()"
   ]
  },
  {
   "cell_type": "code",
   "execution_count": null,
   "metadata": {},
   "outputs": [],
   "source": []
  }
 ],
 "metadata": {
  "kernelspec": {
   "display_name": "Python 3",
   "language": "python",
   "name": "python3"
  },
  "language_info": {
   "codemirror_mode": {
    "name": "ipython",
    "version": 3
   },
   "file_extension": ".py",
   "mimetype": "text/x-python",
   "name": "python",
   "nbconvert_exporter": "python",
   "pygments_lexer": "ipython3",
   "version": "3.6.5"
  }
 },
 "nbformat": 4,
 "nbformat_minor": 2
}
