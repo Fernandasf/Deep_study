{
 "cells": [
  {
   "cell_type": "markdown",
   "metadata": {},
   "source": [
    "# Convolutional Networks + Dense applied in IWR using Spectrograms\n",
    "\n",
    "    Author: Fernanda Ferreira\n",
    "    Professor: Tiago F. Tavares\n",
    "    \n",
    "    date: 02/2019"
   ]
  },
  {
   "cell_type": "markdown",
   "metadata": {},
   "source": [
    "## Import Libraries"
   ]
  },
  {
   "cell_type": "code",
   "execution_count": 1,
   "metadata": {},
   "outputs": [
    {
     "name": "stderr",
     "output_type": "stream",
     "text": [
      "/home/fernanda/anaconda3/lib/python3.6/site-packages/h5py/__init__.py:36: FutureWarning: Conversion of the second argument of issubdtype from `float` to `np.floating` is deprecated. In future, it will be treated as `np.float64 == np.dtype(float).type`.\n",
      "  from ._conv import register_converters as _register_converters\n",
      "Using TensorFlow backend.\n"
     ]
    }
   ],
   "source": [
    "%matplotlib inline\n",
    "import matplotlib.pyplot as plt\n",
    "import numpy as np\n",
    "import glob\n",
    "import librosa\n",
    "import librosa.display as ld\n",
    "# Printa todos os valores do array\n",
    "#np.set_printoptions(threshold=np.inf)\n",
    "np.set_printoptions(threshold=10)\n",
    "import pandas as pd\n",
    "#from sklearn.cross_validation import train_test_split\n",
    "from sklearn.model_selection import train_test_split\n",
    "import keras\n",
    "\n",
    "from __future__ import print_function\n",
    "import keras\n",
    "from keras.datasets import mnist\n",
    "from keras.models import Sequential\n",
    "from keras.layers import Dense, Dropout, Flatten\n",
    "from keras.layers import Conv2D, MaxPooling2D, Conv1D\n",
    "from keras import backend as K\n",
    "\n",
    "# Versão2"
   ]
  },
  {
   "cell_type": "markdown",
   "metadata": {},
   "source": [
    "## To load train dataset"
   ]
  },
  {
   "cell_type": "code",
   "execution_count": 2,
   "metadata": {},
   "outputs": [],
   "source": [
    "data_train1 = glob.glob('fernanda_audios/*.wav')\n",
    "data_train2 = glob.glob('fernanda_noise_norm/noise_30/*.wav')\n",
    "data_train3 = glob.glob('fernanda_noise_norm/noise_70/*.wav')\n"
   ]
  },
  {
   "cell_type": "code",
   "execution_count": 3,
   "metadata": {},
   "outputs": [],
   "source": [
    "def load_datas(data):\n",
    "    len_audios = []\n",
    "    audios = []\n",
    "\n",
    "    for file in sorted(data):\n",
    "        audio, sr = librosa.core.load(file, sr=None, mono=True, offset=0.0, duration=None)\n",
    "        len_audios.append(len(audio))\n",
    "        audios.append(audio)\n",
    "        max_audio = max(len_audios)\n",
    "        \n",
    "    return audios, len_audios, sr\n",
    "\n",
    "def spectrograms(audios, len_audios, sr):\n",
    "    \n",
    "    hop_length = 400\n",
    "    n_fft = 500\n",
    "\n",
    "    #To convert the hop length and frame size to units of seconds:\n",
    "    print (\"hop length[s]:\", float(hop_length)/sr) # units of seconds\n",
    "    print (\"frame size[s]:\",float(n_fft)/sr) # units of seconds\n",
    "\n",
    "    audios_resize = []\n",
    "    specs = []\n",
    "\n",
    "    for i in range(len(audios)):\n",
    "        shape = (max(len_audios))\n",
    "        i_audio = np.array(audios[i])\n",
    "        i_audio.resize(shape)\n",
    "        x = librosa.stft(i_audio, n_fft=n_fft, hop_length=hop_length)\n",
    "        X = librosa.amplitude_to_db(np.abs(x), ref=np.max)\n",
    "        specs.append(X)\n",
    "        audios_resize.append(i_audio)\n",
    "        \n",
    "    return specs\n",
    "\n",
    "#Librosa.stft return:\n",
    "#np.ndarray [shape=(1 + n_fft/2, t), dtype=dtype]"
   ]
  },
  {
   "cell_type": "code",
   "execution_count": 4,
   "metadata": {},
   "outputs": [],
   "source": [
    "# convert class vectors to binary class matrices\n",
    "def string_to_binary(lista):\n",
    "    \n",
    "    for i in range(len(lista)):\n",
    "        if lista[i] == 'ACADEMIA':\n",
    "            lista[i] = 0\n",
    "        elif lista[i] == 'AEROPORTO':\n",
    "            lista[i] = 1\n",
    "        elif lista[i] == 'CASA':\n",
    "            lista[i] = 2\n",
    "        elif lista[i] == 'CINEMA':\n",
    "            lista[i] = 3\n",
    "        elif lista[i] == 'ESCOLA':\n",
    "            lista[i] = 4\n",
    "        elif lista[i] == 'FACULDADE':\n",
    "            lista[i] = 5\n",
    "        elif lista[i] == 'FARMACIA':\n",
    "            lista[i] = 6\n",
    "        elif lista[i] == 'HOSPITAL':\n",
    "            lista[i] = 7\n",
    "        elif lista[i] == 'MERCADO':\n",
    "            lista[i] = 8\n",
    "        elif lista[i] == 'TRABALHO':\n",
    "            lista[i] = 9\n",
    "    return lista\n"
   ]
  },
  {
   "cell_type": "code",
   "execution_count": 5,
   "metadata": {},
   "outputs": [],
   "source": [
    "def f1(y_true, y_pred):\n",
    "    def recall(y_true, y_pred):\n",
    "        \"\"\"Recall metric.\n",
    "\n",
    "        Only computes a batch-wise average of recall.\n",
    "\n",
    "        Computes the recall, a metric for multi-label classification of\n",
    "        how many relevant items are selected.\n",
    "        \"\"\"\n",
    "        true_positives = K.sum(K.round(K.clip(y_true * y_pred, 0, 1)))\n",
    "        possible_positives = K.sum(K.round(K.clip(y_true, 0, 1)))\n",
    "        recall = true_positives / (possible_positives + K.epsilon())\n",
    "        return recall\n",
    "\n",
    "    def precision(y_true, y_pred):\n",
    "        \"\"\"Precision metric.\n",
    "\n",
    "        Only computes a batch-wise average of precision.\n",
    "\n",
    "        Computes the precision, a metric for multi-label classification of\n",
    "        how many selected items are relevant.\n",
    "        \"\"\"\n",
    "        true_positives = K.sum(K.round(K.clip(y_true * y_pred, 0, 1)))\n",
    "        predicted_positives = K.sum(K.round(K.clip(y_pred, 0, 1)))\n",
    "        precision = true_positives / (predicted_positives + K.epsilon())\n",
    "        return precision\n",
    "    \n",
    "    precision = precision(y_true, y_pred)\n",
    "    recall = recall(y_true, y_pred)\n",
    "    \n",
    "    return 2*((precision*recall)/(precision+recall+K.epsilon()))"
   ]
  },
  {
   "cell_type": "code",
   "execution_count": 6,
   "metadata": {},
   "outputs": [
    {
     "name": "stdout",
     "output_type": "stream",
     "text": [
      "hop length[s]: 0.009070294784580499\n",
      "frame size[s]: 0.011337868480725623\n",
      "hop length[s]: 0.009070294784580499\n",
      "frame size[s]: 0.011337868480725623\n",
      "hop length[s]: 0.009070294784580499\n",
      "frame size[s]: 0.011337868480725623\n"
     ]
    }
   ],
   "source": [
    "audios_train1, len_audios_train1, sr = load_datas(data_train1)\n",
    "audios_train2, len_audios_train2, sr = load_datas(data_train2)\n",
    "audios_train3, len_audios_train3, sr = load_datas(data_train3)\n",
    "\n",
    "specs_train1 = spectrograms(audios_train1, len_audios_train1, sr)\n",
    "specs_train2 = spectrograms(audios_train2, len_audios_train1, sr)\n",
    "specs_train3 = spectrograms(audios_train3, len_audios_train1, sr)"
   ]
  },
  {
   "cell_type": "code",
   "execution_count": 7,
   "metadata": {},
   "outputs": [],
   "source": [
    "specs_train = specs_train1 + specs_train2 + specs_train3\n",
    "\n",
    "specs_train = np.array(specs_train)"
   ]
  },
  {
   "cell_type": "markdown",
   "metadata": {},
   "source": [
    "#### To load Labels"
   ]
  },
  {
   "cell_type": "code",
   "execution_count": 8,
   "metadata": {},
   "outputs": [
    {
     "data": {
      "text/plain": [
       "array(['ACADEMIA', 'ACADEMIA', 'ACADEMIA', ..., 'TRABALHO', 'TRABALHO',\n",
       "       'TRABALHO'], dtype=object)"
      ]
     },
     "execution_count": 8,
     "metadata": {},
     "output_type": "execute_result"
    }
   ],
   "source": [
    "l_train = pd.read_csv('fernanda_audios/label.csv', sep=';')\n",
    "#l_test = pd.read_csv('labels/labels_test.csv', sep=';')\n",
    "#l_train.head(5)\n",
    "#file = open('datasets/fernando_falas/labels.txt', 'r')\n",
    "#print (file.read())\n",
    "\n",
    "l_col = l_train['label']\n",
    "#l_col_train = np.vstack((l_col_train, l_col_train))\n",
    "#l_col_test = l_test['label']\n",
    "l_col_train = np.concatenate((l_col, np.concatenate((l_col, l_col), axis=0)), axis=0)\n",
    "#l_col_train = np.array(l_col_train)\n",
    "l_col_train"
   ]
  },
  {
   "cell_type": "code",
   "execution_count": 9,
   "metadata": {},
   "outputs": [],
   "source": [
    "x_train, x_val, y_train, y_val = train_test_split(specs_train, l_col_train, test_size=0.2, random_state=42, \n",
    "                                                  stratify=l_col_train)\n"
   ]
  },
  {
   "cell_type": "code",
   "execution_count": 10,
   "metadata": {},
   "outputs": [],
   "source": [
    "y_train_np = np.array(y_train)\n",
    "y_val_np = np.array(y_val)\n",
    "x_train_np = np.array(x_train)\n",
    "x_val_np = np.array(x_val)"
   ]
  },
  {
   "cell_type": "code",
   "execution_count": 11,
   "metadata": {},
   "outputs": [
    {
     "name": "stdout",
     "output_type": "stream",
     "text": [
      "[1 5 8 ... 7 9 4]\n",
      "[1 5 6 ... 3 8 4]\n",
      "(9600, 251, 192)\n",
      "(2400, 251, 192)\n"
     ]
    }
   ],
   "source": [
    "y_train_bi = string_to_binary(y_train_np)\n",
    "print (y_train_bi)\n",
    "\n",
    "y_val_bi = string_to_binary(y_val_np)\n",
    "print (y_val_bi)\n",
    "\n",
    "print (x_train_np.shape)\n",
    "print (x_val_np.shape)"
   ]
  },
  {
   "cell_type": "markdown",
   "metadata": {},
   "source": [
    "### Conv2D + Maxpooling + Dense building"
   ]
  },
  {
   "cell_type": "code",
   "execution_count": 12,
   "metadata": {},
   "outputs": [],
   "source": [
    "batch_size = 20\n",
    "epochs = 50"
   ]
  },
  {
   "cell_type": "code",
   "execution_count": 13,
   "metadata": {},
   "outputs": [
    {
     "name": "stdout",
     "output_type": "stream",
     "text": [
      "x_train shape: (9600, 251, 192, 1)\n",
      "9600 train samples\n",
      "2400 val samples\n",
      "(251, 192, 1)\n",
      "y_train shape: (9600,)\n",
      "y_train shape: (9600, 10)\n"
     ]
    }
   ],
   "source": [
    "# input image dimensions\n",
    "img_rows = x_train_np.shape[1]\n",
    "img_cols = x_train_np.shape[2]\n",
    "\n",
    "if K.image_data_format() == 'channels_first':\n",
    "    x_train_np = x_train_np.reshape(x_train_np.shape[0], 1, img_rows, img_cols)\n",
    "    x_val_np = x_val_np.reshape(x_val_np.shape[0], 1, img_rows, img_cols)\n",
    "    #x_test_np = x_test_np.reshape(x_test_np.shape[0], 1, img_rows, img_cols)\n",
    "    input_shape = (1, img_rows, img_cols)\n",
    "else:\n",
    "    x_train_np = x_train_np.reshape(x_train_np.shape[0], img_rows, img_cols, 1)\n",
    "    x_val_np = x_val_np.reshape(x_val_np.shape[0], img_rows, img_cols, 1)\n",
    "    #x_test_np = x_test_np.reshape(x_test_np.shape[0], img_rows, img_cols, 1)\n",
    "    input_shape = (img_rows, img_cols, 1)\n",
    "\n",
    "x_train_np = x_train_np.astype('float32')\n",
    "x_val_np = x_val_np.astype('float32')\n",
    "#x_test_np = x_test_np.astype('float32')\n",
    "x_train_np /= 255\n",
    "x_val_np /= 255\n",
    "#x_test_np /= 255\n",
    "print('x_train shape:', x_train_np.shape)\n",
    "print(x_train_np.shape[0], 'train samples')\n",
    "print(x_val_np.shape[0], 'val samples')\n",
    "#print(x_test_np.shape[0], 'test samples')\n",
    "print (input_shape)\n",
    "\n",
    "print ('y_train shape:', y_train_np.shape)\n",
    "\n",
    "num_classes = 10\n",
    "y_train_np = keras.utils.to_categorical(y_train_bi, num_classes)\n",
    "#y_test_np = keras.utils.to_categorical(y_test_bi, num_classes)\n",
    "y_val_np = keras.utils.to_categorical(y_val_bi, num_classes)\n",
    "\n",
    "print ('y_train shape:', y_train_np.shape)"
   ]
  },
  {
   "cell_type": "code",
   "execution_count": 20,
   "metadata": {},
   "outputs": [
    {
     "name": "stdout",
     "output_type": "stream",
     "text": [
      "_________________________________________________________________\n",
      "Layer (type)                 Output Shape              Param #   \n",
      "=================================================================\n",
      "conv2d_5 (Conv2D)            (None, 249, 190, 16)      160       \n",
      "_________________________________________________________________\n",
      "max_pooling2d_5 (MaxPooling2 (None, 124, 95, 16)       0         \n",
      "_________________________________________________________________\n",
      "conv2d_6 (Conv2D)            (None, 122, 93, 16)       2320      \n",
      "_________________________________________________________________\n",
      "max_pooling2d_6 (MaxPooling2 (None, 61, 46, 16)        0         \n",
      "_________________________________________________________________\n",
      "conv2d_7 (Conv2D)            (None, 59, 44, 16)        2320      \n",
      "_________________________________________________________________\n",
      "max_pooling2d_7 (MaxPooling2 (None, 29, 22, 16)        0         \n",
      "_________________________________________________________________\n",
      "conv2d_8 (Conv2D)            (None, 27, 20, 16)        2320      \n",
      "_________________________________________________________________\n",
      "max_pooling2d_8 (MaxPooling2 (None, 13, 10, 16)        0         \n",
      "_________________________________________________________________\n",
      "flatten_2 (Flatten)          (None, 2080)              0         \n",
      "_________________________________________________________________\n",
      "dense_3 (Dense)              (None, 200)               416200    \n",
      "_________________________________________________________________\n",
      "dense_4 (Dense)              (None, 10)                2010      \n",
      "=================================================================\n",
      "Total params: 425,330\n",
      "Trainable params: 425,330\n",
      "Non-trainable params: 0\n",
      "_________________________________________________________________\n"
     ]
    }
   ],
   "source": [
    "model = Sequential()\n",
    "# Input Layer\n",
    "input_shape=input_shape\n",
    "# Hidden Layer\n",
    "model.add(Conv2D(16, kernel_size=(3, 3), activation='relu', input_shape=input_shape))\n",
    "model.add(MaxPooling2D(pool_size=(2, 2)))\n",
    "model.add(Conv2D(16, kernel_size=(3, 3), activation='relu'))\n",
    "model.add(MaxPooling2D(pool_size=(2, 2)))\n",
    "model.add(Conv2D(16, kernel_size=(3, 3), activation='relu'))\n",
    "model.add(MaxPooling2D(pool_size=(2, 2)))\n",
    "model.add(Conv2D(16, kernel_size=(3, 3), activation='relu'))\n",
    "model.add(MaxPooling2D(pool_size=(2, 2)))\n",
    "model.add(Flatten())\n",
    "model.add(Dense(200, activation='relu'))\n",
    "# Output Layer\n",
    "model.add(Dense(num_classes, activation='softmax'))\n",
    "model.summary()"
   ]
  },
  {
   "cell_type": "code",
   "execution_count": 21,
   "metadata": {},
   "outputs": [],
   "source": [
    "#model.compile(loss='categorical_crossentropy', metrics=['accuracy'], optimizer='adam')\n",
    "model.compile(loss='categorical_crossentropy', metrics=[f1], optimizer='adam')\n",
    "#model.compile(loss='categorical_crossentropy', metrics=['accuracy'], optimizer='sgd')"
   ]
  },
  {
   "cell_type": "code",
   "execution_count": 22,
   "metadata": {},
   "outputs": [
    {
     "name": "stdout",
     "output_type": "stream",
     "text": [
      "Train on 9600 samples, validate on 2400 samples\n",
      "Epoch 1/50\n",
      "9600/9600 [==============================] - 59s 6ms/step - loss: 1.1401 - f1: 0.5179 - val_loss: 0.2730 - val_f1: 0.9174\n",
      "Epoch 2/50\n",
      "9600/9600 [==============================] - 55s 6ms/step - loss: 0.1256 - f1: 0.9600 - val_loss: 0.1328 - val_f1: 0.9549\n",
      "Epoch 3/50\n",
      "9600/9600 [==============================] - 55s 6ms/step - loss: 0.0508 - f1: 0.9836 - val_loss: 0.0541 - val_f1: 0.9803\n",
      "Epoch 4/50\n",
      "9600/9600 [==============================] - 55s 6ms/step - loss: 0.0184 - f1: 0.9944 - val_loss: 0.0338 - val_f1: 0.9914\n",
      "Epoch 5/50\n",
      "9600/9600 [==============================] - 55s 6ms/step - loss: 0.0296 - f1: 0.9903 - val_loss: 0.0365 - val_f1: 0.9900\n",
      "Epoch 6/50\n",
      "9600/9600 [==============================] - 55s 6ms/step - loss: 0.0097 - f1: 0.9972 - val_loss: 0.0443 - val_f1: 0.9869\n",
      "Epoch 7/50\n",
      "9600/9600 [==============================] - 55s 6ms/step - loss: 0.0178 - f1: 0.9936 - val_loss: 0.0299 - val_f1: 0.9912\n",
      "Epoch 8/50\n",
      "9600/9600 [==============================] - 56s 6ms/step - loss: 0.0030 - f1: 0.9995 - val_loss: 0.0174 - val_f1: 0.9960\n",
      "Epoch 9/50\n",
      "9600/9600 [==============================] - 56s 6ms/step - loss: 3.2436e-04 - f1: 1.0000 - val_loss: 0.0146 - val_f1: 0.9967\n",
      "Epoch 10/50\n",
      "9600/9600 [==============================] - 56s 6ms/step - loss: 7.1815e-05 - f1: 1.0000 - val_loss: 0.0150 - val_f1: 0.9962\n",
      "Epoch 11/50\n",
      "9600/9600 [==============================] - 56s 6ms/step - loss: 4.1705e-05 - f1: 1.0000 - val_loss: 0.0148 - val_f1: 0.9962\n",
      "Epoch 12/50\n",
      "9600/9600 [==============================] - 55s 6ms/step - loss: 2.8851e-05 - f1: 1.0000 - val_loss: 0.0152 - val_f1: 0.9962\n",
      "Epoch 13/50\n",
      "9600/9600 [==============================] - 55s 6ms/step - loss: 2.1558e-05 - f1: 1.0000 - val_loss: 0.0154 - val_f1: 0.9962\n",
      "Epoch 14/50\n",
      "9600/9600 [==============================] - 55s 6ms/step - loss: 1.6643e-05 - f1: 1.0000 - val_loss: 0.0155 - val_f1: 0.9962\n"
     ]
    }
   ],
   "source": [
    "history = model.fit(x_train_np, y_train_np,\n",
    "                    batch_size=batch_size, epochs=epochs, verbose=1,\n",
    "                    validation_data=(x_val_np, y_val_np), \n",
    "                    callbacks=[keras.callbacks.EarlyStopping(monitor='val_loss',\n",
    "                              min_delta=0,\n",
    "                              patience=5,\n",
    "                              verbose=0, mode='auto')])\n"
   ]
  },
  {
   "cell_type": "code",
   "execution_count": 23,
   "metadata": {},
   "outputs": [
    {
     "data": {
      "image/png": "[encoded data removed]",
      "text/plain": [
       "<Figure size 432x288 with 1 Axes>"
      ]
     },
     "metadata": {},
     "output_type": "display_data"
    },
    {
     "data": {
      "image/png": "[encoded data removed]",
      "text/plain": [
       "<Figure size 432x288 with 1 Axes>"
      ]
     },
     "metadata": {},
     "output_type": "display_data"
    }
   ],
   "source": [
    "# Plot training & validation accuracy values\n",
    "plt.plot(history.history['f1'])\n",
    "plt.plot(history.history['val_f1'])\n",
    "plt.title('Model F1-score')\n",
    "plt.ylabel('F1-score')\n",
    "plt.xlabel('Epoch')\n",
    "plt.legend(['Train', 'Test'], loc='best')\n",
    "plt.show()\n",
    "\n",
    "# Plot training & validation loss values\n",
    "plt.plot(history.history['loss'])\n",
    "plt.plot(history.history['val_loss'])\n",
    "plt.title('Model loss')\n",
    "plt.ylabel('Loss')\n",
    "plt.xlabel('Epoch')\n",
    "plt.legend(['Train', 'Test'], loc='best')\n",
    "plt.show()"
   ]
  },
  {
   "cell_type": "markdown",
   "metadata": {},
   "source": [
    "## To load Test dataset"
   ]
  },
  {
   "cell_type": "code",
   "execution_count": 26,
   "metadata": {},
   "outputs": [
    {
     "name": "stdout",
     "output_type": "stream",
     "text": [
      "hop length[s]: 0.009070294784580499\n",
      "frame size[s]: 0.011337868480725623\n",
      "Base test: fernanda_noise_norm/noise_70/*.wav\n",
      "Test loss: 0.00440158590993883\n",
      "Test F1-score: 0.9987499976158142\n",
      "\n",
      "\n",
      "hop length[s]: 0.009070294784580499\n",
      "frame size[s]: 0.011337868480725623\n",
      "Base test: fernanda_noise_norm/noise_80/*.wav\n",
      "Test loss: 0.004683283501880965\n",
      "Test F1-score: 0.9989999980926514\n",
      "\n",
      "\n",
      "hop length[s]: 0.009070294784580499\n",
      "frame size[s]: 0.011337868480725623\n",
      "Base test: fernanda_noise_norm/noise_90/*.wav\n",
      "Test loss: 0.00510936730494268\n",
      "Test F1-score: 0.9989999980926514\n",
      "\n",
      "\n",
      "hop length[s]: 0.009070294784580499\n",
      "frame size[s]: 0.011337868480725623\n",
      "Base test: fernanda_noise_norm/noise_100/*.wav\n",
      "Test loss: 0.005526901684987933\n",
      "Test F1-score: 0.9989999980926514\n",
      "\n",
      "\n"
     ]
    }
   ],
   "source": [
    "base_test = [#'fernanda_audios/*.wav', 'fernanda_noise_norm/noise_10/*.wav', 'fernanda_noise_norm/noise_20/*.wav']#,\n",
    "             #'fernanda_noise_norm/noise_30/*.wav', 'fernanda_noise_norm/noise_40/*.wav',\n",
    "             #'fernanda_noise_norm/noise_50/*.wav', 'fernanda_noise_norm/noise_60/*.wav']#,\n",
    "             'fernanda_noise_norm/noise_70/*.wav', 'fernanda_noise_norm/noise_80/*.wav',\n",
    "             'fernanda_noise_norm/noise_90/*.wav', 'fernanda_noise_norm/noise_100/*.wav']\n",
    "\n",
    "for base in base_test:\n",
    "    \n",
    "    data_test = glob.glob(base)\n",
    "    #data_test = glob.glob('fernanda_audios/*.wav')\n",
    "\n",
    "    audios_test, len_audios_test, sr = load_datas(data_test)\n",
    "    specs_test = spectrograms(audios_test, len_audios_train1, sr)\n",
    "\n",
    "\n",
    "    x_test_np = np.array(specs_test)\n",
    "    y_test_np = np.array(l_col)\n",
    "\n",
    "    y_test_bi = string_to_binary(y_test_np)\n",
    "    #print (y_test_bi)\n",
    "    #print (x_test_np.shape)\n",
    "\n",
    "    # input image dimensions\n",
    "    img_rows = x_train_np.shape[1]\n",
    "    img_cols = x_train_np.shape[2]\n",
    "\n",
    "    if K.image_data_format() == 'channels_first':\n",
    "        #x_train_np = x_train_np.reshape(x_train_np.shape[0], 1, img_rows, img_cols)\n",
    "        #x_val_np = x_val_np.reshape(x_val_np.shape[0], 1, img_rows, img_cols)\n",
    "        x_test_np = x_test_np.reshape(x_test_np.shape[0], 1, img_rows, img_cols)\n",
    "        input_shape = (1, img_rows, img_cols)\n",
    "    else:\n",
    "        #x_train_np = x_train_np.reshape(x_train_np.shape[0], img_rows, img_cols, 1)\n",
    "        #x_val_np = x_val_np.reshape(x_val_np.shape[0], img_rows, img_cols, 1)\n",
    "        x_test_np = x_test_np.reshape(x_test_np.shape[0], img_rows, img_cols, 1)\n",
    "        input_shape = (img_rows, img_cols, 1)\n",
    "\n",
    "    #x_train_np = x_train_np.astype('float32')\n",
    "    #x_val_np = x_val_np.astype('float32')\n",
    "    x_test_np = x_test_np.astype('float32')\n",
    "    #x_train_np /= 255\n",
    "    #x_val_np /= 255\n",
    "    x_test_np /= 255\n",
    "    #print('x_train shape:', x_train_np.shape)\n",
    "    #print(x_train_np.shape[0], 'train samples')\n",
    "    #print(x_val_np.shape[0], 'val samples')\n",
    "    #print(x_test_np.shape[0], 'test samples')\n",
    "    #print (input_shape)\n",
    "\n",
    "    #print ('y_test shape:', y_test_np.shape)\n",
    "\n",
    "    num_classes = 10\n",
    "    #y_train_np = keras.utils.to_categorical(y_train_bi, num_classes)\n",
    "    y_test_np = keras.utils.to_categorical(y_test_bi, num_classes)\n",
    "    #y_val_np = keras.utils.to_categorical(y_val_bi, num_classes)\n",
    "\n",
    "    #print ('y_test shape:', y_test_np.shape)\n",
    "\n",
    "    score = model.evaluate(x_test_np, y_test_np, verbose=0)\n",
    "    \n",
    "    print ('Base test:', base)\n",
    "    print('Test loss:', score[0])\n",
    "    print('Test F1-score:', score[1])\n",
    "    print ('\\n')\n"
   ]
  },
  {
   "cell_type": "code",
   "execution_count": null,
   "metadata": {},
   "outputs": [],
   "source": []
  }
 ],
 "metadata": {
  "kernelspec": {
   "display_name": "Python 3",
   "language": "python",
   "name": "python3"
  },
  "language_info": {
   "codemirror_mode": {
    "name": "ipython",
    "version": 3
   },
   "file_extension": ".py",
   "mimetype": "text/x-python",
   "name": "python",
   "nbconvert_exporter": "python",
   "pygments_lexer": "ipython3",
   "version": "3.6.5"
  }
 },
 "nbformat": 4,
 "nbformat_minor": 2
}
