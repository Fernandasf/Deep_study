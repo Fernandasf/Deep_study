{
 "cells": [
  {
   "cell_type": "markdown",
   "metadata": {},
   "source": [
    "# Perceptron"
   ]
  },
  {
   "cell_type": "code",
   "execution_count": 9,
   "metadata": {},
   "outputs": [],
   "source": [
    "%matplotlib inline\n",
    "import numpy as np\n",
    "import matplotlib.pyplot as plt\n",
    "from collections import Counter\n",
    "import pandas as pd\n"
   ]
  },
  {
   "cell_type": "markdown",
   "metadata": {},
   "source": [
    "## Dataset"
   ]
  },
  {
   "cell_type": "code",
   "execution_count": 2,
   "metadata": {},
   "outputs": [
    {
     "data": {
      "image/png": "[encoded data removed]",
      "text/plain": [
       "<Figure size 432x288 with 1 Axes>"
      ]
     },
     "metadata": {},
     "output_type": "display_data"
    }
   ],
   "source": [
    "class1 = [(3, 4), (4.2, 5.3), (4, 3), (6, 5), (4, 6), (3.7, 5.8),\n",
    "          (3.2, 4.6), (5.2, 5.9), (5, 4), (7, 4), (3, 7), (4.3, 4.3) ] \n",
    "\n",
    "class2 = [(-3, -4), (-2, -3.5), (-1, -6), (-3, -4.3), (-4, -5.6), \n",
    "          (-3.2, -4.8), (-2.3, -4.3), (-2.7, -2.6), (-1.5, -3.6), \n",
    "          (-3.6, -5.6), (-4.5, -4.6), (-3.7, -5.8) ]\n",
    "\n",
    "X, Y = zip(*class1)\n",
    "plt.scatter(X, Y, c=\"r\")\n",
    "X, Y = zip(*class2)\n",
    "plt.scatter(X, Y, c=\"b\")\n",
    "plt.title('Dados linearmente separáveis')\n",
    "plt.show()"
   ]
  },
  {
   "cell_type": "code",
   "execution_count": 3,
   "metadata": {},
   "outputs": [],
   "source": [
    "#w = [0, 0, 0]\n",
    "#x = [0,1,-2]\n",
    "\n",
    "x = np.array(class1 + class2)\n",
    "#print (x)\n",
    "#print (type(X), type(w))\n",
    "\n",
    "ni= 0.1 #Deve ser cte, positivo e menor que 1.\n",
    "w = np.zeros(len(X))\n",
    "\n",
    "    \n",
    "#y = np.dot(np.transpose(w), X)\n",
    "#print (len(y))\n",
    "\n",
    "def Perceptron(x, ni):\n",
    "    \n",
    "    def signum_function(x):\n",
    "        if x <= 0:\n",
    "            return -1\n",
    "        return 1\n",
    "    \n",
    "    w = np.zeros(len(x))\n",
    "    \n",
    "    w1 = []\n",
    "    D = []\n",
    "    \n",
    "    for n in range(len(x)-1):\n",
    "        y = signum_function(np.dot(np.transpose(w), x))\n",
    "        d = signum_function(x[n])\n",
    "        D.append(d)\n",
    "        e = d - y\n",
    "        w[n+1] = float(w[n] + ni * x[n] * e)\n",
    "        w1.append(w[n+1])\n",
    "        \n",
    "    v_in = w1 * x\n",
    "    v_sum = v_in.sum()\n",
    "    v = signum_function(v_sum)\n",
    "    #print (len(w1))\n",
    "    #print (v_sum)\n",
    "    #print (signum_function(v_sum))\n",
    "    #print (D)\n",
    "    return v, D, w1"
   ]
  },
  {
   "cell_type": "code",
   "execution_count": 4,
   "metadata": {},
   "outputs": [
    {
     "name": "stdout",
     "output_type": "stream",
     "text": [
      "[('correct', 24)]\n"
     ]
    }
   ],
   "source": [
    "evaluation = Counter()\n",
    "\n",
    "Y = []\n",
    "D2 = []\n",
    "W1 = []\n",
    "\n",
    "for point in x:\n",
    "    #print (point)\n",
    "    y, D, w1 = Perceptron(point, ni)\n",
    "    Y.append([y])\n",
    "    D2.append(D)\n",
    "    W1.append(w1)\n",
    "    \n",
    "#print (D2, Y)\n",
    "#print (W1)\n",
    "\n",
    "for i,j in zip(D2, Y):\n",
    "    if Y == D2:\n",
    "        evaluation[\"correct\"] += 1\n",
    "    else:\n",
    "        evaluation[\"wrong\"] += 1\n",
    "\n",
    "print(evaluation.most_common())"
   ]
  },
  {
   "cell_type": "code",
   "execution_count": 5,
   "metadata": {},
   "outputs": [
    {
     "name": "stdout",
     "output_type": "stream",
     "text": [
      "m: [-0.71428571]\n"
     ]
    }
   ],
   "source": [
    "t = np.arange(-7, 8)\n",
    "\n",
    "W1 = np.asarray(W1)\n",
    "\n",
    "m = -(W1[0] / W1[1])\n",
    "print ('m:', m)"
   ]
  },
  {
   "cell_type": "code",
   "execution_count": 6,
   "metadata": {},
   "outputs": [
    {
     "data": {
      "image/png": "[encoded data removed]",
      "text/plain": [
       "<Figure size 432x288 with 1 Axes>"
      ]
     },
     "metadata": {},
     "output_type": "display_data"
    }
   ],
   "source": [
    "X, Y = zip(*class1)\n",
    "plt.scatter(X, Y, c=\"r\")\n",
    "X, Y = zip(*class2)\n",
    "plt.scatter(X, Y, c=\"b\")\n",
    "plt.plot(t, t*m)\n",
    "plt.title('Dados linearmente separáveis utilizando o Perceptron')\n",
    "plt.show()"
   ]
  },
  {
   "cell_type": "markdown",
   "metadata": {},
   "source": [
    "# Conclusion\n",
    "\n",
    "To use this dataset the perceptron works very well. But, we could have problems if the dataset was non-linear. "
   ]
  },
  {
   "cell_type": "markdown",
   "metadata": {},
   "source": [
    "# Reference\n",
    "\n",
    "-  Neural Networks and Learning Machines. Simon Haykin. McMaster University, Canada"
   ]
  }
 ],
 "metadata": {
  "kernelspec": {
   "display_name": "Python 3",
   "language": "python",
   "name": "python3"
  },
  "language_info": {
   "codemirror_mode": {
    "name": "ipython",
    "version": 3
   },
   "file_extension": ".py",
   "mimetype": "text/x-python",
   "name": "python",
   "nbconvert_exporter": "python",
   "pygments_lexer": "ipython3",
   "version": "3.6.5"
  }
 },
 "nbformat": 4,
 "nbformat_minor": 2
}
