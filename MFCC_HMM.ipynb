{
 "cells": [
  {
   "cell_type": "markdown",
   "metadata": {},
   "source": [
    "# MFCC e HMM para classificar audios com dimensão reduzida\n",
    "\n",
    "Autora: Fernanda Ferreira\n",
    "\n",
    "Orientador: Tiago Tavares\n",
    "    \n",
    "Data: 06/12/2018"
   ]
  },
  {
   "cell_type": "code",
   "execution_count": 41,
   "metadata": {},
   "outputs": [],
   "source": [
    "%matplotlib inline\n",
    "import matplotlib.pyplot as plt\n",
    "import glob\n",
    "import librosa\n",
    "import sklearn\n",
    "from sklearn import metrics\n",
    "from sklearn.cross_validation import train_test_split\n",
    "import numpy as np\n",
    "from hmmlearn.hmm import GaussianHMM, MultinomialHMM"
   ]
  },
  {
   "cell_type": "code",
   "execution_count": 38,
   "metadata": {},
   "outputs": [],
   "source": [
    "# Carregamento dos audios limpos, utilizando os 13 primeiros coeficientes\n",
    "\n",
    "datas = glob.glob('fernanda_audios/*.wav')\n",
    "#labels = list(open('labels_MFCC.txt', 'r'))\n",
    "\n",
    "list_coeffs =[]\n",
    "\n",
    "for file in sorted(datas):\n",
    "    #input(file)\n",
    "    audio, fs = librosa.core.load(file, sr=44100, mono=True)\n",
    "    coeff = librosa.feature.mfcc(audio, fs, S=None, n_mfcc=13, dct_type=2, norm='ortho').T\n",
    "    #coeff_trunc = np.hstack((np.mean(coeff, axis=0), np.std(coeff, axis=0)))\n",
    "    list_coeffs.append(coeff)\n",
    "\n",
    "#labels_coeff = ['academia']*features.shape[0]\n",
    "#labels_name = labels[1]"
   ]
  },
  {
   "cell_type": "code",
   "execution_count": 59,
   "metadata": {},
   "outputs": [],
   "source": [
    "def select_words(coeffs, init, stop, name=''):\n",
    "    coeff_word=[]\n",
    "    for i in range(init, stop):\n",
    "        coeff_word.append(coeffs[i])\n",
    "    len_word = []\n",
    "    for i in range(len(coeff_word)):\n",
    "        len_word.append(len(coeff_word[i]))\n",
    "    label = [name]*(len(coeff_word))\n",
    "    return np.vstack(coeff_word), len_word, label\n"
   ]
  },
  {
   "cell_type": "code",
   "execution_count": 103,
   "metadata": {},
   "outputs": [],
   "source": [
    "f_ac, l_ac, l1 = select_words(list_coeffs, 0, 400, 'academia')\n",
    "f_ae, l_ae, l2 = select_words(list_coeffs, 400, 800, 'aeroporto')\n",
    "f_ca, l_ca, l3 = select_words(list_coeffs, 800, 1200, 'casa')\n",
    "\n",
    "#Cross-validation falso - 80 train, 20 test\n",
    "#def cv(f):\n",
    "#    x1_train = f[0:int((len(f))*0.8)]\n",
    "#    x1_test = f[int((len(f))*0.8):len(f)]\n",
    "\n",
    "\n",
    "x1_train = f_ac[0:int((len(f_ac))*0.8)]\n",
    "x1_test = f_ac[int((len(f_ac))*0.8):len(f_ac)]\n",
    "\n",
    "x2_train = f_ae[0:int((len(f_ae))*0.8)]\n",
    "x2_test = f_ae[int((len(f_ae))*0.8):len(f_ae)]\n",
    "\n",
    "x3_train = f_ca[0:int((len(f_ca))*0.8)]\n",
    "x3_test = f_ca[int((len(f_ca))*0.8):len(f_ca)]"
   ]
  },
  {
   "cell_type": "code",
   "execution_count": 53,
   "metadata": {},
   "outputs": [
    {
     "data": {
      "text/plain": [
       "GaussianHMM(algorithm='viterbi', covariance_type='diag', covars_prior=0.01,\n",
       "      covars_weight=1, init_params='stmc', means_prior=0, means_weight=0,\n",
       "      min_covar=0.001, n_components=2, n_iter=50, params='stmc',\n",
       "      random_state=None, startprob_prior=1.0, tol=0.01, transmat_prior=1.0,\n",
       "      verbose=False)"
      ]
     },
     "execution_count": 53,
     "metadata": {},
     "output_type": "execute_result"
    }
   ],
   "source": [
    "import warnings\n",
    "warnings.filterwarnings('ignore')\n",
    "    \n",
    "model1 = GaussianHMM(n_components=2, covariance_type='diag', n_iter=50)\n",
    "model1.fit(f_ac, l_ac)"
   ]
  },
  {
   "cell_type": "code",
   "execution_count": 104,
   "metadata": {},
   "outputs": [
    {
     "data": {
      "text/plain": [
       "GaussianHMM(algorithm='viterbi', covariance_type='diag', covars_prior=0.01,\n",
       "      covars_weight=1, init_params='stmc', means_prior=0, means_weight=0,\n",
       "      min_covar=0.001, n_components=2, n_iter=50, params='stmc',\n",
       "      random_state=None, startprob_prior=1.0, tol=0.01, transmat_prior=1.0,\n",
       "      verbose=False)"
      ]
     },
     "execution_count": 104,
     "metadata": {},
     "output_type": "execute_result"
    }
   ],
   "source": [
    "model2 = GaussianHMM(n_components=2, covariance_type='diag', n_iter=50)\n",
    "model2.fit(f_ae, l_ae)"
   ]
  },
  {
   "cell_type": "code",
   "execution_count": null,
   "metadata": {},
   "outputs": [],
   "source": [
    "model3 = GaussianHMM(n_components=2, covariance_type='diag', n_iter=50)\n",
    "model3.fit(f_ae, l_ae)"
   ]
  }
 ],
 "metadata": {
  "kernelspec": {
   "display_name": "Python 3",
   "language": "python",
   "name": "python3"
  },
  "language_info": {
   "codemirror_mode": {
    "name": "ipython",
    "version": 3
   },
   "file_extension": ".py",
   "mimetype": "text/x-python",
   "name": "python",
   "nbconvert_exporter": "python",
   "pygments_lexer": "ipython3",
   "version": "3.6.5"
  }
 },
 "nbformat": 4,
 "nbformat_minor": 2
}
