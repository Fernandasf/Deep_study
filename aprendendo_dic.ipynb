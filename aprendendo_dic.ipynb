{
 "cells": [
  {
   "cell_type": "code",
   "execution_count": 75,
   "metadata": {},
   "outputs": [
    {
     "name": "stdout",
     "output_type": "stream",
     "text": [
      "Idx, string\n",
      " {0: 'a', 1: 'b', 2: 'c', 3: 'a', 4: 'a', 5: 'c'}\n",
      "String e qnt\n",
      ": {'a': 3, 'b': 1, 'c': 2}\n",
      "(Idx, string) e qnt \n",
      " {(0, 'a'): 3, (1, 'b'): 1, (2, 'c'): 2, (3, 'a'): 3, (4, 'a'): 3, (5, 'c'): 2}\n"
     ]
    }
   ],
   "source": [
    "import numpy as np\n",
    "s = ['a', 'b', 'c', 'a', 'a', 'c']\n",
    "d = ['a, b, c, a, a, c']\n",
    "\n",
    "#x = zip(range(len(s)), s)\n",
    "#print (list(x))\n",
    "\n",
    "\n",
    "dic = {i : s[i] for i in range(len(s))}\n",
    "\n",
    "print ('Idx, string\\n', dic)\n",
    "\n",
    "count_dic = {s[i]: s.count(s[i]) for i in range(len(s))}\n",
    "count_dic2 = {(i, s[i]): s.count(s[i]) for i in range(len(s))}\n",
    "\n",
    "print ('String e qnt\\n:', count_dic)\n",
    "\n",
    "#Posição e contagem das strings\n",
    "print ('(Idx, string) e qnt \\n',  count_dic2)"
   ]
  },
  {
   "cell_type": "code",
   "execution_count": null,
   "metadata": {},
   "outputs": [],
   "source": []
  }
 ],
 "metadata": {
  "kernelspec": {
   "display_name": "Python 3",
   "language": "python",
   "name": "python3"
  },
  "language_info": {
   "codemirror_mode": {
    "name": "ipython",
    "version": 3
   },
   "file_extension": ".py",
   "mimetype": "text/x-python",
   "name": "python",
   "nbconvert_exporter": "python",
   "pygments_lexer": "ipython3",
   "version": "3.6.5"
  }
 },
 "nbformat": 4,
 "nbformat_minor": 2
}
